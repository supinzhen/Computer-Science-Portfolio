{
 "cells": [
  {
   "cell_type": "code",
   "execution_count": 1,
   "metadata": {},
   "outputs": [
    {
     "data": {
      "image/png": "[encoded data removed]",
      "text/plain": [
       "<Figure size 432x288 with 3 Axes>"
      ]
     },
     "metadata": {
      "needs_background": "light"
     },
     "output_type": "display_data"
    }
   ],
   "source": [
    "#gear tooth inspection using morphological filter\n",
    "\n",
    "import cv2\n",
    "import numpy as np\n",
    "from matplotlib import pyplot as plt\n",
    "\n",
    "# 讀入圖片\n",
    "img = cv2.imread('gear_tooth.png', cv2.IMREAD_GRAYSCALE)\n",
    "\n",
    "# 將圖片轉為黑白\n",
    "retval, img_a = cv2.threshold(img, 225, 255, cv2.THRESH_BINARY)\n",
    "\n",
    "# 設定Kernel\n",
    "kernel_dot = cv2.getStructuringElement(cv2.MORPH_ELLIPSE,(3,3))\n",
    "kernel_hole = cv2.getStructuringElement(cv2.MORPH_ELLIPSE,(30,30))\n",
    "kernel_hole_e = cv2.erode(kernel_hole, kernel_dot, iterations=1)\n",
    "kernel_hole_ring = kernel_hole - kernel_hole_e\n",
    "\n",
    "# 繪製Kernel\n",
    "plt.subplot(1,3,1)\n",
    "plt.imshow(kernel_hole, cmap = 'gray')\n",
    "plt.subplot(1,3,2)\n",
    "plt.imshow(kernel_hole_e, cmap = 'gray')\n",
    "plt.subplot(1,3,3)\n",
    "plt.imshow(kernel_hole_ring, cmap = 'gray')\n",
    "\n",
    "img_b = cv2.erode(img_a, kernel_hole_ring, iterations=1)\n",
    "img_c = cv2.dilate(img_b, kernel_hole, iterations=1)\n",
    "img_d = cv2.bitwise_or(img, img_c)\n",
    "\n",
    "# 設定各種 Kernel\n",
    "kernel_gear_body = cv2.getStructuringElement(cv2.MORPH_ELLIPSE,(33,33))\n",
    "kernel_sample_ring_spacer = cv2.getStructuringElement(cv2.MORPH_ELLIPSE,(39,39))\n",
    "kernel_sample_ring_width = cv2.getStructuringElement(cv2.MORPH_ELLIPSE,(33,33))\n",
    "kernel_tip_spacing = cv2.getStructuringElement(cv2.MORPH_ELLIPSE,(7,7))\n",
    "kernel_defect_cue = cv2.getStructuringElement(cv2.MORPH_ELLIPSE,(17,17))\n",
    "kernel_ring_mask = cv2.getStructuringElement(cv2.MORPH_ELLIPSE,(3,3))\n",
    "\n",
    "# 製作圖片e\n",
    "img_d_e = cv2.erode(img_d, kernel_gear_body, iterations=1)\n",
    "img_e = cv2.dilate(img_d_e, kernel_sample_ring_spacer, iterations=1) - cv2.dilate(img_d_e, kernel_sample_ring_width, iterations=1)\n",
    "\n",
    "# 製作圖片f\n",
    "img_f = cv2.bitwise_and(img_a, img_e)\n",
    "\n",
    "# 製作圖片g\n",
    "img_g = cv2.dilate(img_f, kernel_tip_spacing, iterations=1)\n",
    "retval, img_g = cv2.threshold(img_g, 60, 255, cv2.THRESH_BINARY)\n",
    "\n",
    "# 將圖片e中沒有興趣的範圍去掉(圖片中的矩形框線(黑與白的矩形邊界))\n",
    "ring_mask = cv2.dilate(img_g, kernel_ring_mask, iterations=1)\n",
    "img_e = cv2.bitwise_and(img_e, ring_mask)\n",
    "\n",
    "# 製作圖片h\n",
    "result_1 = (img_e - img_g)\n",
    "result_2 = cv2.dilate(result_1, kernel_defect_cue, iterations=1)\n",
    "retval, result_3 = cv2.threshold(result_2, 253, 255, cv2.THRESH_BINARY) # 用這張圖找瑕疵位置輪廓\n",
    "result = cv2.bitwise_or(result_3, img_g)\n",
    "\n",
    "# 將GRAY圖片轉為BGR -> 才能繪製紅色正方形\n",
    "result = cv2.cvtColor(result, cv2.COLOR_GRAY2BGR)\n",
    "\n",
    "# 尋找瑕疵位置輪廓\n",
    "contours, hierarchy = cv2.findContours(result_3, cv2.RETR_EXTERNAL, cv2.CHAIN_APPROX_SIMPLE)\n",
    "\n",
    "# 走訪每一個輪廓\n",
    "for con in contours:\n",
    "    \n",
    "    # 取得包圍的四邊形左上角的座標與長寬\n",
    "    x, y, w, h = cv2.boundingRect(con)\n",
    "    \n",
    "    # 繪製紅色四邊形\n",
    "    cv2.rectangle(result, (x,y),(x+w,y+h),(0,0,255),1)      \n",
    "\n",
    "cv2.imshow('(a)', img_a)\n",
    "cv2.imshow('(b)', img_b)\n",
    "cv2.imshow('(c)', img_c)\n",
    "cv2.imshow('(d)', img_d)\n",
    "cv2.imshow('(e)', img_e)\n",
    "cv2.imshow('(f)', img_f)\n",
    "cv2.imshow('(g)', img_g)\n",
    "# cv2.imshow('(result_1)', result_1)\n",
    "# cv2.imshow('(result_2)', result_2)\n",
    "# cv2.imshow('(result_3)', result_3)\n",
    "cv2.imshow('(h-result)', result)\n",
    "\n",
    "cv2.waitKey()\n",
    "cv2.destroyAllWindows()"
   ]
  }
 ],
 "metadata": {
  "kernelspec": {
   "display_name": "Python 3",
   "language": "python",
   "name": "python3"
  },
  "language_info": {
   "codemirror_mode": {
    "name": "ipython",
    "version": 3
   },
   "file_extension": ".py",
   "mimetype": "text/x-python",
   "name": "python",
   "nbconvert_exporter": "python",
   "pygments_lexer": "ipython3",
   "version": "3.10.5"
  },
  "orig_nbformat": 4
 },
 "nbformat": 4,
 "nbformat_minor": 2
}
